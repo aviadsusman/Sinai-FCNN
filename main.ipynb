{
 "cells": [
  {
   "cell_type": "code",
   "execution_count": 14,
   "id": "initial_id",
   "metadata": {
    "collapsed": true,
    "ExecuteTime": {
     "end_time": "2023-08-07T02:58:13.544360Z",
     "start_time": "2023-08-07T02:58:13.526047Z"
    }
   },
   "outputs": [],
   "source": [
    "import numpy as np\n",
    "import pandas as pd\n",
    "import os\n",
    "import tensorflow as tf\n",
    "from sklearn.model_selection import KFold\n",
    "from sklearn.metrics import accuracy_score"
   ]
  },
  {
   "cell_type": "code",
   "execution_count": 15,
   "outputs": [],
   "source": [
    "data_folder = \"/Users/aviadsusman/PycharmProjects/Sinai_FCNN/data\"\n",
    "\n",
    "data_frames = []\n",
    "\n",
    "for file_name in os.listdir(data_folder):\n",
    "    if not (file_name.startswith('labels') or file_name.startswith('data')):\n",
    "        file_path = os.path.join(data_folder, file_name)\n",
    "        data_frame = pd.read_csv(file_path)\n",
    "        data_frames.append(data_frame)\n",
    "\n",
    "# Concatenate all data frames into one\n",
    "X = pd.concat(data_frames, axis=1).to_numpy()\n",
    "X = np.asarray(X).astype(np.float32)\n",
    "y = pd.read_csv('/Users/aviadsusman/PycharmProjects/Sinai_FCNN/data/labels.csv', header=None).to_numpy()"
   ],
   "metadata": {
    "collapsed": false,
    "ExecuteTime": {
     "end_time": "2023-08-07T02:58:14.718249Z",
     "start_time": "2023-08-07T02:58:13.557512Z"
    }
   },
   "id": "a6bb9cfe0e5ac616"
  },
  {
   "cell_type": "code",
   "execution_count": 16,
   "outputs": [],
   "source": [
    "kf = KFold(n_splits=5, shuffle=True, random_state=42)"
   ],
   "metadata": {
    "collapsed": false,
    "ExecuteTime": {
     "end_time": "2023-08-07T02:58:14.733778Z",
     "start_time": "2023-08-07T02:58:14.725082Z"
    }
   },
   "id": "f602af36e614d4d"
  },
  {
   "cell_type": "code",
   "execution_count": 17,
   "outputs": [],
   "source": [
    "def train_model(X_train, y_train, num_hidden_layers):\n",
    "    model = tf.keras.Sequential()\n",
    "\n",
    "    # Input layer\n",
    "    model.add(tf.keras.layers.InputLayer(input_shape=(X_train.shape[1],)))\n",
    "\n",
    "    # Hidden layers\n",
    "    for _ in range(num_hidden_layers):\n",
    "        model.add(tf.keras.layers.Dense(units=64, activation='relu'))\n",
    "\n",
    "    # Output layer\n",
    "    model.add(tf.keras.layers.Dense(units=1, activation='sigmoid'))\n",
    "\n",
    "    # Compile the model\n",
    "    model.compile(optimizer='adam', loss='binary_crossentropy', metrics=['accuracy'])\n",
    "\n",
    "    # Train the model\n",
    "    model.fit(X_train, y_train, epochs=10, batch_size=32, verbose=0)\n",
    "\n",
    "    return model"
   ],
   "metadata": {
    "collapsed": false,
    "ExecuteTime": {
     "end_time": "2023-08-07T02:58:14.771098Z",
     "start_time": "2023-08-07T02:58:14.740698Z"
    }
   },
   "id": "5b8e18836a75f5b8"
  },
  {
   "cell_type": "code",
   "execution_count": 18,
   "outputs": [],
   "source": [
    "num_hidden_layers_list = [3, 4, 5]"
   ],
   "metadata": {
    "collapsed": false,
    "ExecuteTime": {
     "end_time": "2023-08-07T02:58:14.786773Z",
     "start_time": "2023-08-07T02:58:14.769426Z"
    }
   },
   "id": "fc9add17e1ce3312"
  },
  {
   "cell_type": "code",
   "execution_count": 19,
   "outputs": [
    {
     "name": "stdout",
     "output_type": "stream",
     "text": [
      "Training with 3 hidden layers:\n",
      "95/95 [==============================] - 1s 4ms/step\n",
      "95/95 [==============================] - 1s 4ms/step\n",
      "95/95 [==============================] - 1s 3ms/step\n",
      "95/95 [==============================] - 0s 3ms/step\n",
      "95/95 [==============================] - 0s 2ms/step\n",
      "Mean accuracy: 0.7861 ± 0.1586\n",
      "\n",
      "Training with 4 hidden layers:\n",
      "95/95 [==============================] - 0s 2ms/step\n",
      "95/95 [==============================] - 0s 2ms/step\n",
      "95/95 [==============================] - 0s 3ms/step\n",
      "95/95 [==============================] - 0s 3ms/step\n",
      "95/95 [==============================] - 0s 3ms/step\n",
      "Mean accuracy: 0.8672 ± 0.0053\n",
      "\n",
      "Training with 5 hidden layers:\n",
      "95/95 [==============================] - 2s 5ms/step\n",
      "95/95 [==============================] - 1s 4ms/step\n",
      "95/95 [==============================] - 0s 2ms/step\n",
      "95/95 [==============================] - 0s 2ms/step\n",
      "95/95 [==============================] - 0s 2ms/step\n",
      "Mean accuracy: 0.8672 ± 0.0050\n"
     ]
    }
   ],
   "source": [
    "for num_hidden_layers in num_hidden_layers_list:\n",
    "    print(f\"Training with {num_hidden_layers} hidden layers:\")\n",
    "\n",
    "    accuracies = []\n",
    "    for train_index, val_index in kf.split(X):\n",
    "        X_train_fold, X_val_fold = X[train_index], X[val_index]\n",
    "        y_train_fold, y_val_fold = y[train_index], y[val_index]\n",
    "\n",
    "        model = train_model(X_train_fold, y_train_fold, num_hidden_layers)\n",
    "        y_val_pred = model.predict(X_val_fold)\n",
    "        y_val_pred = (y_val_pred >= 0.5).astype(int)\n",
    "\n",
    "        accuracy = accuracy_score(y_val_fold, y_val_pred)\n",
    "        accuracies.append(accuracy)\n",
    "\n",
    "    mean_accuracy = np.mean(accuracies)\n",
    "    std_accuracy = np.std(accuracies)\n",
    "\n",
    "    print(f\"Mean accuracy: {mean_accuracy:.4f} ± {std_accuracy:.4f}\\n\")"
   ],
   "metadata": {
    "collapsed": false,
    "ExecuteTime": {
     "end_time": "2023-08-07T03:01:39.915602Z",
     "start_time": "2023-08-07T02:58:14.785351Z"
    }
   },
   "id": "a6cdbb6be06eff7c"
  },
  {
   "cell_type": "code",
   "execution_count": 19,
   "outputs": [],
   "source": [],
   "metadata": {
    "collapsed": false,
    "ExecuteTime": {
     "end_time": "2023-08-07T03:01:39.987159Z",
     "start_time": "2023-08-07T03:01:39.939994Z"
    }
   },
   "id": "9ce9184588a62994"
  }
 ],
 "metadata": {
  "kernelspec": {
   "display_name": "Python 3",
   "language": "python",
   "name": "python3"
  },
  "language_info": {
   "codemirror_mode": {
    "name": "ipython",
    "version": 2
   },
   "file_extension": ".py",
   "mimetype": "text/x-python",
   "name": "python",
   "nbconvert_exporter": "python",
   "pygments_lexer": "ipython2",
   "version": "2.7.6"
  }
 },
 "nbformat": 4,
 "nbformat_minor": 5
}
